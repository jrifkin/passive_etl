{
 "cells": [
  {
   "cell_type": "code",
   "execution_count": 1,
   "metadata": {
    "collapsed": true
   },
   "outputs": [],
   "source": [
    "import pyodbc\n",
    "import sqlalchemy\n",
    "import pandas as pd\n",
    "import numpy as np\n",
    "import savReaderWriter as spss\n",
    "def connect():\n",
    "    return pyodbc.connect(\"DRIVER={SQL Server};SERVER=mstelms.extranet.iext\\\\mstelms;DATABASE=PassiveTest\")\n"
   ]
  },
  {
   "cell_type": "code",
   "execution_count": 2,
   "metadata": {
    "collapsed": false
   },
   "outputs": [],
   "source": [
    "path = r\"O:\\MSI\\PERSONAL FOLDERS\\Files for Jake\\Passive\\Passive Panel\\Data\\Dimension+P3 data_06-May-2015.sav\"\n",
    "data = spss.SavReader(path,returnHeader=True)"
   ]
  },
  {
   "cell_type": "code",
   "execution_count": null,
   "metadata": {
    "collapsed": false
   },
   "outputs": [],
   "source": [
    "keep_cols =  [\"Respondent_ID\",\"Respondent_Serial\",\"NETWORK\",\"SMARTPHONE_BRAND\",\"SMARTPHONE_MODEL\",\"APP_DOWNLOAD\",\"EMAIL_CAPTURE\",\"EMAIL_CONFIRM\",\"resp_gender\",\"resp_age\",\"EMPLOYMENT\",\"PERSONAL_USE01\",\"PERSONAL_USE02\",\"PERSONAL_USE03\",\"PERSONAL_USE04\",\"PERSONAL_USE05\",\"PERSONAL_USE06\",\"PERSONAL_USE07\",\"PERSONAL_USE08\",\"PERSONAL_USE09\",\"PERSONAL_USE10\",\"PERSONAL_USE11\",\"PERSONAL_USE12\",\"PERSONAL_USE13\",\"PERSONAL_USE14\",\"PERSONAL_USE15\",\"PERSONAL_USE16\",\"DEVICE_TYPE\",\"CARRIER\",\"DATA_PLAN\",\"DATA_LIMIT\"]\n",
    "kill_cols = [col for col in data.varNames if not(col in keep_cols)]"
   ]
  },
  {
   "cell_type": "code",
   "execution_count": null,
   "metadata": {
    "collapsed": false
   },
   "outputs": [
    {
     "name": "stdout",
     "output_type": "stream",
     "text": [
      "20.8%...  41.6%...  62.4%...  "
     ]
    }
   ],
   "source": [
    "df = pd.DataFrame(list(data),returnHeader=False,selectVars=keep_cols)"
   ]
  },
  {
   "cell_type": "code",
   "execution_count": null,
   "metadata": {
    "collapsed": true
   },
   "outputs": [],
   "source": []
  }
 ],
 "metadata": {
  "kernelspec": {
   "display_name": "Python 2",
   "language": "python",
   "name": "python2"
  },
  "language_info": {
   "codemirror_mode": {
    "name": "ipython",
    "version": 2
   },
   "file_extension": ".py",
   "mimetype": "text/x-python",
   "name": "python",
   "nbconvert_exporter": "python",
   "pygments_lexer": "ipython2",
   "version": "2.7.9"
  }
 },
 "nbformat": 4,
 "nbformat_minor": 0
}
